{
 "cells": [
  {
   "cell_type": "code",
   "execution_count": 19,
   "id": "d4fa9fe8",
   "metadata": {},
   "outputs": [],
   "source": [
    "import numpy as np\n",
    "import pandas as pd\n",
    "import matplotlib.pyplot as plt\n",
    "from scipy.optimize import root, fsolve\n",
    "import periodictable\n",
    "#!conda install periodictable --yes"
   ]
  },
  {
   "cell_type": "code",
   "execution_count": null,
   "id": "34ca4332",
   "metadata": {},
   "outputs": [],
   "source": [
    "# 4 empirical constants\n",
    "a_v = 15.71511\n",
    "a_s = 17.53638\n",
    "a_c = 0.71363\n",
    "a_a = 23.37837\n",
    "d_m = 939.565 - 938.272 # m_n - m_p"
   ]
  },
  {
   "cell_type": "code",
   "execution_count": 14,
   "id": "9cb62ffa",
   "metadata": {},
   "outputs": [],
   "source": [
    "def y(x):\n",
    "    return np.sqrt(a_s/(2*a_c*x**3))\n",
    "def f(x):\n",
    "    return (1+(d_m/(4*a_a)))/(2+a_c*x**2/(2*a_a)) - y(x)\n"
   ]
  },
  {
   "cell_type": "code",
   "execution_count": 20,
   "id": "bc253432",
   "metadata": {},
   "outputs": [
    {
     "name": "stdout",
     "output_type": "stream",
     "text": [
      " Z = 27.060587770161927\n",
      " A = 59.59881129073461\n",
      " x = 3.9061225614256485\n",
      " y = 0.45404576339878844\n",
      "Element: cobalt (Co)\n"
     ]
    }
   ],
   "source": [
    "solution = root(f,5)\n",
    "x = solution.x[0]\n",
    "y_val = y(x)\n",
    "A = x**3\n",
    "Z = y_val*A\n",
    "element = periodictable.elements[int(Z)]\n",
    "print(f\" Z = {Z}\\n A = {A}\\n x = {x}\\n y = {y_val}\")\n",
    "print(f\"Element: {element.name} ({element.symbol})\")"
   ]
  },
  {
   "cell_type": "code",
   "execution_count": null,
   "id": "fd25c45c",
   "metadata": {},
   "outputs": [],
   "source": []
  }
 ],
 "metadata": {
  "kernelspec": {
   "display_name": "general",
   "language": "python",
   "name": "python3"
  },
  "language_info": {
   "codemirror_mode": {
    "name": "ipython",
    "version": 3
   },
   "file_extension": ".py",
   "mimetype": "text/x-python",
   "name": "python",
   "nbconvert_exporter": "python",
   "pygments_lexer": "ipython3",
   "version": "3.13.2"
  }
 },
 "nbformat": 4,
 "nbformat_minor": 5
}
